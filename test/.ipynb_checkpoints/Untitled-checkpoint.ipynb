{
 "cells": [
  {
   "cell_type": "code",
   "execution_count": 7,
   "id": "7aadab29",
   "metadata": {},
   "outputs": [
    {
     "ename": "ValueError",
     "evalue": "'7' is not in list",
     "output_type": "error",
     "traceback": [
      "\u001b[1;31m---------------------------------------------------------------------------\u001b[0m",
      "\u001b[1;31mValueError\u001b[0m                                Traceback (most recent call last)",
      "Cell \u001b[1;32mIn [7], line 6\u001b[0m\n\u001b[0;32m      4\u001b[0m beer_card \u001b[38;5;241m=\u001b[39m Card(\u001b[38;5;124m'\u001b[39m\u001b[38;5;124m7\u001b[39m\u001b[38;5;124m'\u001b[39m, \u001b[38;5;124m'\u001b[39m\u001b[38;5;124mdiamonds\u001b[39m\u001b[38;5;124m'\u001b[39m)\n\u001b[0;32m      5\u001b[0m ranks \u001b[38;5;241m=\u001b[39m [ i \u001b[38;5;28;01mfor\u001b[39;00m i \u001b[38;5;129;01min\u001b[39;00m \u001b[38;5;28mrange\u001b[39m(\u001b[38;5;241m2\u001b[39m,\u001b[38;5;241m11\u001b[39m)]\n\u001b[1;32m----> 6\u001b[0m \u001b[38;5;28mprint\u001b[39m(ranks\u001b[38;5;241m.\u001b[39mindex(beer_card\u001b[38;5;241m.\u001b[39mrank))\n",
      "\u001b[1;31mValueError\u001b[0m: '7' is not in list"
     ]
    }
   ],
   "source": [
    "import collections\n",
    "\n",
    "Card = collections.namedtuple('Card',['rank', 'suit'])\n",
    "beer_card = Card('7', 'diamonds')\n",
    "ranks = [ str(n) for i in range(2,11)]\n",
    "print(ranks.index(beer_card.rank))\n",
    "\n",
    "\n"
   ]
  },
  {
   "cell_type": "code",
   "execution_count": 4,
   "id": "bb611490",
   "metadata": {},
   "outputs": [],
   "source": [
    "suit_values = dict(spades = 3, hearts = 2, diamonds = 1, clubs = 0)"
   ]
  },
  {
   "cell_type": "code",
   "execution_count": 6,
   "id": "d6237225",
   "metadata": {},
   "outputs": [
    {
     "data": {
      "text/plain": [
       "4"
      ]
     },
     "execution_count": 6,
     "metadata": {},
     "output_type": "execute_result"
    }
   ],
   "source": [
    "len(suit_values)"
   ]
  },
  {
   "cell_type": "code",
   "execution_count": null,
   "id": "51b67bcd",
   "metadata": {},
   "outputs": [],
   "source": []
  }
 ],
 "metadata": {
  "kernelspec": {
   "display_name": "Python 3 (ipykernel)",
   "language": "python",
   "name": "python3"
  },
  "language_info": {
   "codemirror_mode": {
    "name": "ipython",
    "version": 3
   },
   "file_extension": ".py",
   "mimetype": "text/x-python",
   "name": "python",
   "nbconvert_exporter": "python",
   "pygments_lexer": "ipython3",
   "version": "3.9.11"
  }
 },
 "nbformat": 4,
 "nbformat_minor": 5
}
